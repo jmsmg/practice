{
  "nbformat": 4,
  "nbformat_minor": 0,
  "metadata": {
    "colab": {
      "name": "tensorflow.ipynb",
      "provenance": [],
      "collapsed_sections": [],
      "toc_visible": true
    },
    "kernelspec": {
      "display_name": "Python 3",
      "name": "python3"
    },
    "language_info": {
      "name": "python"
    }
  },
  "cells": [
    {
      "cell_type": "markdown",
      "metadata": {
        "id": "xHQRI-uYnQpG"
      },
      "source": [
        "## Import"
      ]
    },
    {
      "cell_type": "code",
      "metadata": {
        "id": "Y3-00UcwtW1P"
      },
      "source": [
        "# !pip uninstall tensorflow"
      ],
      "execution_count": null,
      "outputs": []
    },
    {
      "cell_type": "code",
      "metadata": {
        "id": "1Umy8XdHd4-b"
      },
      "source": [
        "# !pip install tensorflow==1.13.1"
      ],
      "execution_count": null,
      "outputs": []
    },
    {
      "cell_type": "markdown",
      "metadata": {
        "id": "APZI4NGjnZ9W"
      },
      "source": [
        "# 1.선형 회귀"
      ]
    },
    {
      "cell_type": "code",
      "metadata": {
        "id": "pGcCM4-R7lW3"
      },
      "source": [
        "import tensorflow as tf\n",
        "import numpy as np\n",
        "import pandas as pd\n",
        "import matplotlib.pyplot as plt\n",
        "from sklearn import datasets"
      ],
      "execution_count": null,
      "outputs": []
    },
    {
      "cell_type": "code",
      "metadata": {
        "colab": {
          "base_uri": "https://localhost:8080/",
          "height": 35
        },
        "id": "eYfTsoNatasG",
        "outputId": "23153606-b910-4b03-b8b2-2381c8547305"
      },
      "source": [
        "tf.__version__"
      ],
      "execution_count": null,
      "outputs": [
        {
          "output_type": "execute_result",
          "data": {
            "application/vnd.google.colaboratory.intrinsic+json": {
              "type": "string"
            },
            "text/plain": [
              "'1.13.1'"
            ]
          },
          "metadata": {
            "tags": []
          },
          "execution_count": 54
        }
      ]
    },
    {
      "cell_type": "markdown",
      "metadata": {
        "id": "9r7jz_5ynfkl"
      },
      "source": [
        "\n",
        "## 1)Prepare the data"
      ]
    },
    {
      "cell_type": "code",
      "metadata": {
        "colab": {
          "base_uri": "https://localhost:8080/"
        },
        "id": "8Yu-ikjH7_EK",
        "outputId": "163e62a9-8cfb-4b73-e05d-9d9914dd3a05"
      },
      "source": [
        "x_data = datasets.load_boston().data[:, 12] # 12:13으로 열지 않아 행만 존제하는 1차원 리스트로 나옴\n",
        "y_data = datasets.load_boston().target\n",
        "df = pd.DataFrame([x_data, y_data]).transpose()\n",
        "df.head"
      ],
      "execution_count": null,
      "outputs": [
        {
          "output_type": "execute_result",
          "data": {
            "text/plain": [
              "<bound method NDFrame.head of         0     1\n",
              "0    4.98  24.0\n",
              "1    9.14  21.6\n",
              "2    4.03  34.7\n",
              "3    2.94  33.4\n",
              "4    5.33  36.2\n",
              "..    ...   ...\n",
              "501  9.67  22.4\n",
              "502  9.08  20.6\n",
              "503  5.64  23.9\n",
              "504  6.48  22.0\n",
              "505  7.88  11.9\n",
              "\n",
              "[506 rows x 2 columns]>"
            ]
          },
          "metadata": {
            "tags": []
          },
          "execution_count": 55
        }
      ]
    },
    {
      "cell_type": "markdown",
      "metadata": {
        "id": "stnP5ner66Kr"
      },
      "source": [
        "## 2)Build the model"
      ]
    },
    {
      "cell_type": "code",
      "metadata": {
        "id": "tuSl9sg08Mk8"
      },
      "source": [
        "# reset prarameter theta\n",
        "\n",
        "w = tf.Variable(tf.random_normal([1])) # 정규분포에서 1개를 랜덤하게 뽑아줌 \n",
        "b = tf.Variable(tf.random_normal([1])) \n",
        "\n",
        "y_predicted = w * x_data + b"
      ],
      "execution_count": null,
      "outputs": []
    },
    {
      "cell_type": "markdown",
      "metadata": {
        "id": "WJP9hMNo7BKr"
      },
      "source": [
        "## 3)Set the criterion"
      ]
    },
    {
      "cell_type": "code",
      "metadata": {
        "id": "Y_Ojj1nV6GbL"
      },
      "source": [
        "loss = tf.reduce_mean(tf.square(y_predicted - y_data)) # Mean Squared Error\n",
        "optimizer = tf.train.GradientDescentOptimizer(0.001) # vanila Gradient Descent Optimizer // adam, adagrad, momentum ~~~ optimizer\n",
        "train = optimizer.minimize(loss) # associate loss, optimize, minimize"
      ],
      "execution_count": null,
      "outputs": []
    },
    {
      "cell_type": "markdown",
      "metadata": {
        "id": "er0VBcNTw0rT"
      },
      "source": [
        "## 4)Train the model"
      ]
    },
    {
      "cell_type": "code",
      "metadata": {
        "colab": {
          "base_uri": "https://localhost:8080/"
        },
        "id": "Lqe8xA7deCJT",
        "outputId": "e506954f-7f03-49a5-bc28-a49e9bf9b20c"
      },
      "source": [
        "with tf.Session() as sess:\n",
        "    sess.run(tf.global_variables_initializer()) # tf.Variable 초기화\n",
        "\n",
        "    for step in range(10000):\n",
        "        sess.run(train) # Gradient Descent가 실행되는 코드\n",
        "        if step % 1000 == 0:\n",
        "            print('Step {}: w {} b {}'.format(step, sess.run(w), sess.run(b)))\n",
        "            print('loss {}:'.format(sess.run(loss)))\n",
        "            print()\n",
        "\n",
        "    w_out, b_out = sess.run([w, b])"
      ],
      "execution_count": null,
      "outputs": [
        {
          "output_type": "stream",
          "text": [
            "Step 0: w [0.648565] b [0.43408126]\n",
            "loss 361.5445251464844:\n",
            "\n",
            "Step 1000: w [0.3154805] b [13.474753]\n",
            "loss 145.6599884033203:\n",
            "\n",
            "Step 2000: w [-0.16759081] b [21.52095]\n",
            "loss 79.45425415039062:\n",
            "\n",
            "Step 3000: w [-0.466266] b [26.495785]\n",
            "loss 54.14537811279297:\n",
            "\n",
            "Step 4000: w [-0.65093267] b [29.571653]\n",
            "loss 44.470367431640625:\n",
            "\n",
            "Step 5000: w [-0.7651097] b [31.473425]\n",
            "loss 40.77181625366211:\n",
            "\n",
            "Step 6000: w [-0.8357033] b [32.649254]\n",
            "loss 39.35795211791992:\n",
            "\n",
            "Step 7000: w [-0.8793506] b [33.37626]\n",
            "loss 38.81745529174805:\n",
            "\n",
            "Step 8000: w [-0.906337] b [33.825756]\n",
            "loss 38.610836029052734:\n",
            "\n",
            "Step 9000: w [-0.9230217] b [34.10366]\n",
            "loss 38.5318489074707:\n",
            "\n"
          ],
          "name": "stdout"
        }
      ]
    },
    {
      "cell_type": "markdown",
      "metadata": {
        "id": "Ph-6QwQdx6DF"
      },
      "source": [
        "## 5)Visualize the result"
      ]
    },
    {
      "cell_type": "code",
      "metadata": {
        "colab": {
          "base_uri": "https://localhost:8080/",
          "height": 592
        },
        "id": "HFaBiqNex5Sb",
        "outputId": "4efc022f-f809-4bf1-d717-e3b388abe26f"
      },
      "source": [
        "plt.figure(figsize = (10,10))\n",
        "plt.plot(x_data, y_data, 'bo', label='Real data')\n",
        "plt.plot(x_data, x_data * w_out + b_out, 'ro', label='Prediction')\n",
        "plt.legend()\n",
        "plt.show()"
      ],
      "execution_count": null,
      "outputs": [
        {
          "output_type": "display_data",
          "data": {
            "image/png": "[encoded data removed]",
            "text/plain": [
              "<Figure size 720x720 with 1 Axes>"
            ]
          },
          "metadata": {
            "tags": [],
            "needs_background": "light"
          }
        }
      ]
    },
    {
      "cell_type": "markdown",
      "metadata": {
        "id": "-zQHmKseoD_-"
      },
      "source": [
        "# 2.Logistic Regression"
      ]
    },
    {
      "cell_type": "markdown",
      "metadata": {
        "id": "BgLq68IRoFyF"
      },
      "source": [
        "## 1)Prepare the data"
      ]
    },
    {
      "cell_type": "code",
      "metadata": {
        "colab": {
          "base_uri": "https://localhost:8080/"
        },
        "id": "GEHQLieMrxoi",
        "outputId": "a0f7ba29-662e-4fda-bd39-867f0aecf3a1"
      },
      "source": [
        "x_data = datasets.load_boston().data[:, 12] # 12:13으로 열지 않아 행만 존제하는 1차원 리스트로 나옴\n",
        "y_data = datasets.load_boston().target\n",
        "df = pd.DataFrame([x_data, y_data]).transpose()\n",
        "df.head"
      ],
      "execution_count": null,
      "outputs": [
        {
          "output_type": "execute_result",
          "data": {
            "text/plain": [
              "<bound method NDFrame.head of         0     1\n",
              "0    4.98  24.0\n",
              "1    9.14  21.6\n",
              "2    4.03  34.7\n",
              "3    2.94  33.4\n",
              "4    5.33  36.2\n",
              "..    ...   ...\n",
              "501  9.67  22.4\n",
              "502  9.08  20.6\n",
              "503  5.64  23.9\n",
              "504  6.48  22.0\n",
              "505  7.88  11.9\n",
              "\n",
              "[506 rows x 2 columns]>"
            ]
          },
          "metadata": {
            "tags": []
          },
          "execution_count": 79
        }
      ]
    },
    {
      "cell_type": "markdown",
      "metadata": {
        "id": "YKKsY54Zptqe"
      },
      "source": [
        "## 2)Build the model"
      ]
    },
    {
      "cell_type": "code",
      "metadata": {
        "id": "e6KxwgXJx9-T"
      },
      "source": [
        "_x_data = tf.reshape(x_data, [len(x_data), 1]) # x_data의 열\n",
        "_y_data = tf.reshape(y_data, [len(y_data), 1])\n",
        "\n",
        "W1 = tf.Variable(tf.random_normal([1, 5], dtype = tf.float64))\n",
        "W2 = tf.Variable(tf.random_normal([5, 10], dtype = tf.float64))\n",
        "W_out = tf.Variable(tf.random_normal([10, 1], dtype = tf.float64))\n",
        "\n",
        "hidden1 = tf.nn.elu(tf.matmul(_x_data, W1))\n",
        "hidden2 = tf.nn.elu(tf.matmul(hidden1, W2)) # hidden layer\n",
        "output = tf.matmul(hidden2, W_out) # 정답수에 기반"
      ],
      "execution_count": null,
      "outputs": []
    },
    {
      "cell_type": "markdown",
      "metadata": {
        "id": "8BaiZqNNF9Jy"
      },
      "source": [
        "## 3) Set the criterion"
      ]
    },
    {
      "cell_type": "code",
      "metadata": {
        "id": "GCkJUEScs1D5"
      },
      "source": [
        "loss = tf.losses.mean_squared_error(output, _y_data)\n",
        "optimizer = tf.train.AdamOptimizer(0.001)\n",
        "train = optimizer.minimize(loss)"
      ],
      "execution_count": null,
      "outputs": []
    },
    {
      "cell_type": "markdown",
      "metadata": {
        "id": "zhoCLblOp2R4"
      },
      "source": [
        "## 4) Train the model"
      ]
    },
    {
      "cell_type": "code",
      "metadata": {
        "colab": {
          "base_uri": "https://localhost:8080/"
        },
        "id": "5rJPeUwiGFQv",
        "outputId": "5b0dedde-8292-48b3-8d9e-900ce68068b8"
      },
      "source": [
        "with tf.Session() as sess:\n",
        "    sess.run(tf.global_variables_initializer())\n",
        "    for step in range(50000):\n",
        "        sess.run(train)\n",
        "        if step % 5000 == 0:\n",
        "            print('Step {} || Loss : {}'.format(step, sess.run(loss)))\n",
        "    output = sess.run(output)"
      ],
      "execution_count": null,
      "outputs": [
        {
          "output_type": "stream",
          "text": [
            "Step 0 || Loss : 1685.3414306640625\n",
            "Step 5000 || Loss : 27.22722625732422\n",
            "Step 10000 || Loss : 26.17938232421875\n",
            "Step 15000 || Loss : 26.154701232910156\n",
            "Step 20000 || Loss : 26.144332885742188\n",
            "Step 25000 || Loss : 26.135746002197266\n",
            "Step 30000 || Loss : 26.12343406677246\n",
            "Step 35000 || Loss : 26.111530303955078\n",
            "Step 40000 || Loss : 26.101797103881836\n",
            "Step 45000 || Loss : 26.09307289123535\n"
          ],
          "name": "stdout"
        }
      ]
    },
    {
      "cell_type": "code",
      "metadata": {
        "id": "e6jezNuLGRTK",
        "colab": {
          "base_uri": "https://localhost:8080/",
          "height": 592
        },
        "outputId": "b25d987e-51fd-494c-c1a8-93d2c46a65d1"
      },
      "source": [
        "plt.figure(figsize = (10,10))\n",
        "plt.plot(x_data, y_data, 'bo', label='Real data')\n",
        "plt.plot(x_data, output, 'ro', label='Prediction')\n",
        "plt.legend()\n",
        "plt.show()"
      ],
      "execution_count": null,
      "outputs": [
        {
          "output_type": "display_data",
          "data": {
            "image/png": "[encoded data removed]",
            "text/plain": [
              "<Figure size 720x720 with 1 Axes>"
            ]
          },
          "metadata": {
            "tags": [],
            "needs_background": "light"
          }
        }
      ]
    },
    {
      "cell_type": "code",
      "metadata": {
        "id": "ozBSNBSPhdJ-"
      },
      "source": [
        ""
      ],
      "execution_count": null,
      "outputs": []
    }
  ]
}